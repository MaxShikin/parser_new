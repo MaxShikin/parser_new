{
 "cells": [
  {
   "cell_type": "code",
   "execution_count": 1,
   "metadata": {
    "collapsed": true
   },
   "outputs": [],
   "source": [
    "import requests\n",
    "import re\n",
    "from bs4 import BeautifulSoup\n",
    "import pandas as pd\n",
    "import time"
   ]
  },
  {
   "cell_type": "code",
   "execution_count": 2,
   "metadata": {
    "collapsed": true
   },
   "outputs": [],
   "source": [
    "def html_stripper(text):\n",
    "    return re.sub('<[^<]+?>', '', str(text))"
   ]
  },
  {
   "cell_type": "code",
   "execution_count": 3,
   "metadata": {
    "collapsed": false
   },
   "outputs": [],
   "source": [
    "Districts=['http://www.cian.ru/cat.php?deal_type=sale&district%5B0%5D=13&district%5B1%5D=14&district%5B2%5D=15&district%5B3%5D=16&district%5B4%5D=17&district%5B5%5D=18&district%5B6%5D=19&district%5B7%5D=20&district%5B8%5D=21&district%5B9%5D=22&engine_version=2&offer_type=flat&p={}&room1=1&room2=1&room3=1&room4=1&room5=1&room6=1',\n",
    "          'http://www.cian.ru/cat.php?deal_type=sale&district%5B0%5D=23&district%5B10%5D=33&district%5B11%5D=34&district%5B12%5D=35&district%5B13%5D=36&district%5B14%5D=37&district%5B15%5D=38&district%5B1%5D=24&district%5B2%5D=25&district%5B3%5D=26&district%5B4%5D=27&district%5B5%5D=28&district%5B6%5D=29&district%5B7%5D=30&district%5B8%5D=31&district%5B9%5D=32&engine_version=2&offer_type=flat&p={}&room1=1&room2=1&room3=1&room4=1&room5=1&room6=1',\n",
    "          'http://www.cian.ru/cat.php?deal_type=sale&district%5B0%5D=39&district%5B10%5D=49&district%5B11%5D=50&district%5B12%5D=51&district%5B13%5D=52&district%5B14%5D=53&district%5B15%5D=54&district%5B16%5D=55&district%5B1%5D=40&district%5B2%5D=41&district%5B3%5D=42&district%5B4%5D=43&district%5B5%5D=44&district%5B6%5D=45&district%5B7%5D=46&district%5B8%5D=47&district%5B9%5D=48&engine_version=2&offer_type=flat&p={}&room1=1&room2=1&room3=1&room4=1&room5=1&room6=1',\n",
    "          'http://www.cian.ru/cat.php?deal_type=sale&district%5B0%5D=56&district%5B10%5D=66&district%5B11%5D=67&district%5B12%5D=68&district%5B13%5D=69&district%5B14%5D=70&district%5B15%5D=71&district%5B1%5D=57&district%5B2%5D=58&district%5B3%5D=59&district%5B4%5D=60&district%5B5%5D=61&district%5B6%5D=62&district%5B7%5D=63&district%5B8%5D=64&district%5B9%5D=65&engine_version=2&offer_type=flat&p={}&room1=1&room2=1&room3=1&room4=1&room5=1&room6=1',\n",
    "          'http://www.cian.ru/cat.php?deal_type=sale&district%5B0%5D=72&district%5B10%5D=82&district%5B11%5D=83&district%5B1%5D=73&district%5B2%5D=74&district%5B3%5D=75&district%5B4%5D=76&district%5B5%5D=77&district%5B6%5D=78&district%5B7%5D=79&district%5B8%5D=80&district%5B9%5D=81&engine_version=2&offer_type=flat&p={}&room1=1&room2=1&room3=1&room4=1&room5=1&room6=1',\n",
    "          'http://www.cian.ru/cat.php?deal_type=sale&district%5B0%5D=84&district%5B10%5D=94&district%5B11%5D=95&district%5B12%5D=96&district%5B13%5D=97&district%5B14%5D=98&district%5B15%5D=99&district%5B1%5D=85&district%5B2%5D=86&district%5B3%5D=87&district%5B4%5D=88&district%5B5%5D=89&district%5B6%5D=90&district%5B7%5D=91&district%5B8%5D=92&district%5B9%5D=93&engine_version=2&offer_type=flat&p={}&room1=1&room2=1&room3=1&room4=1&room5=1&room6=1',\n",
    "          'http://www.cian.ru/cat.php?deal_type=sale&district%5B0%5D=100&district%5B10%5D=110&district%5B11%5D=111&district%5B1%5D=101&district%5B2%5D=102&district%5B3%5D=103&district%5B4%5D=104&district%5B5%5D=105&district%5B6%5D=106&district%5B7%5D=107&district%5B8%5D=108&district%5B9%5D=109&engine_version=2&offer_type=flat&p={}&room1=1&room2=1&room3=1&room4=1&room5=1&room6=1',\n",
    "          'http://www.cian.ru/cat.php?deal_type=sale&district%5B0%5D=112&district%5B10%5D=122&district%5B11%5D=123&district%5B12%5D=124&district%5B13%5D=348&district%5B14%5D=349&district%5B15%5D=350&district%5B1%5D=113&district%5B2%5D=114&district%5B3%5D=115&district%5B4%5D=116&district%5B5%5D=17&district%5B6%5D=118&district%5B7%5D=119&district%5B8%5D=120&district%5B9%5D=121&engine_version=2&offer_type=flat&p={}&room1=1&room2=1&room3=1&room4=1&room5=1&room6=1',\n",
    "          'http://www.cian.ru/cat.php?deal_type=sale&district%5B0%5D=125&district%5B1%5D=126&district%5B2%5D=127&district%5B3%5D=128&district%5B4%5D=129&district%5B5%5D=130&district%5B6%5D=131&district%5B7%5D=132&engine_version=2&offer_type=flat&p={}&room1=1&room2=1&room3=1&room4=1&room5=1&room6=1',\n",
    "          'http://www.cian.ru/cat.php?deal_type=sale&district%5B0%5D=152&district%5B1%5D=153&district%5B2%5D=154&district%5B3%5D=355&district%5B4%5D=356&district%5B5%5D=357&district%5B6%5D=358&engine_version=2&offer_type=flat&p={}&room1=1&room2=1&room3=1&room4=1&room5=1&room6=1',\n",
    "          'http://www.cian.ru/cat.php?deal_type=sale&district%5B0%5D=327&district%5B10%5D=337&district%5B1%5D=328&district%5B2%5D=329&district%5B3%5D=330&district%5B4%5D=331&district%5B5%5D=332&district%5B6%5D=333&district%5B7%5D=334&district%5B8%5D=335&district%5B9%5D=336&engine_version=2&offer_type=flat&p={}&room1=1&room2=1&room3=1&room4=1&room5=1&room6=1',\n",
    "          'http://www.cian.ru/cat.php?deal_type=sale&district%5B0%5D=338&district%5B1%5D=339&district%5B2%5D=340&district%5B3%5D=341&district%5B4%5D=342&district%5B5%5D=343&district%5B6%5D=344&district%5B7%5D=345&district%5B8%5D=346&district%5B9%5D=347&engine_version=2&offer_type=flat&p={}&room1=1&room2=1&room3=1&room4=1&room5=1&room6=1']"
   ]
  },
  {
   "cell_type": "code",
   "execution_count": 128,
   "metadata": {
    "collapsed": false
   },
   "outputs": [],
   "source": [
    "links = []\n",
    "for district in Districts:\n",
    "    for page in range(1, 30):\n",
    "        page_url = district.format(page)\n",
    "\n",
    "        search_page = requests.get(page_url)\n",
    "        search_page = search_page.content\n",
    "        search_page = BeautifulSoup(search_page, 'lxml')\n",
    "\n",
    "        flat_urls = search_page.findAll('div', attrs = {'ng-class':\"{'serp-item_removed': offer.remove.state, 'serp-item_popup-opened': isPopupOpen}\"})\n",
    "        flat_urls = re.split('http://www.cian.ru/sale/flat/|/\" ng-class=\"', str(flat_urls))\n",
    "\n",
    "        for link in flat_urls:\n",
    "            if link.isdigit():\n",
    "                links.append(link)"
   ]
  },
  {
   "cell_type": "code",
   "execution_count": 96,
   "metadata": {
    "collapsed": true
   },
   "outputs": [],
   "source": [
    "def isfloat(value):\n",
    "    try:\n",
    "        int(value)\n",
    "        return True\n",
    "    except ValueError:\n",
    "        return False"
   ]
  },
  {
   "cell_type": "code",
   "execution_count": 16,
   "metadata": {
    "collapsed": true
   },
   "outputs": [],
   "source": [
    "def Numbers(string):\n",
    "    r=re.compile(r'\\d+')\n",
    "    return r.findall(string)"
   ]
  },
  {
   "cell_type": "code",
   "execution_count": 126,
   "metadata": {
    "collapsed": false
   },
   "outputs": [],
   "source": [
    "def Download(page):\n",
    "    flat_url = 'http://www.cian.ru/sale/flat/' + str(page) + '/'\n",
    "    flat_page = requests.get(flat_url)\n",
    "    flat_page = flat_page.content\n",
    "    flat_page = BeautifulSoup(flat_page, 'lxml')\n",
    "    \n",
    "    price = flat_page.find('div', attrs={'class':'object_descr_price'})\n",
    "    price = re.split('<div>|руб|\\W', str(price))\n",
    "    price = \"\".join([i for i in price if i.isdigit()][-3:])\n",
    "    Price=int(price) if isfloat(price) else 'NaN'\n",
    "    \n",
    "    rooms = flat_page.find('div', attrs={'class':'object_descr_title'})\n",
    "    rooms = html_stripper(rooms)\n",
    "    room_number = ''\n",
    "    for i in re.split('-|\\n', rooms):\n",
    "        if 'комн' in i:\n",
    "            break\n",
    "        else:\n",
    "            room_number += i\n",
    "    room_number = \"\".join(room_number.split())\n",
    "    Rooms=int(room_number) if isfloat(room_number) else 'NaN'\n",
    "    \n",
    "    table = html_stripper(flat_page.find('table', attrs = {'class':'object_descr_props'}))\n",
    "\n",
    "    try:\n",
    "        #Floor/Nfloors\n",
    "        fl=re.split('Этаж:|Тип дома', table)[1].strip() #Floor/Nfloors\n",
    "        fl=Numbers(fl)\n",
    "        if len(fl)==2:\n",
    "            Floor, Nfloors = fl\n",
    "            Nfloors=int(Nfloors) if isfloat(Nfloors) else 'NaN'\n",
    "            Floor=int(Floor) if isfloat(Floor) else 'NaN'\n",
    "        elif len(fl)==1:\n",
    "            fl.append('NaN')\n",
    "            Floor, Nfloors = fl\n",
    "            Floor=int(Floor) if isfloat(Floor) else 'NaN'\n",
    "        else:\n",
    "            Floor, Nfloors = ['NaN','NaN']      \n",
    "    except IndexError:\n",
    "        Floor, Nfloors = ['NaN','NaN']    \n",
    "    \n",
    "    try:\n",
    "        t=re.split('Тип дома:|Тип продажи', table)[1].strip() #New (вторичка или нет), brick (кирпичный или нет)\n",
    "        r1=re.compile('втор'); r2=re.compile('нов'); r3=re.compile('кирп')\n",
    "        if r1.search(t)==None:\n",
    "            if r2.search(t)==None:\n",
    "                New='NaN'\n",
    "            else:\n",
    "                New=1\n",
    "        else:\n",
    "            New=0\n",
    "            \n",
    "        if r3.search(t)==None:\n",
    "            Brick=0\n",
    "        else:\n",
    "            Brick=1\n",
    "    except IndexError:\n",
    "        Brick='NaN'\n",
    "        New='NaN'\n",
    "    \n",
    "    try:\n",
    "        Totsp=re.split('Общая площадь:|Площадь комнат', table)[1]   #Totsp \n",
    "        Totsp=Numbers(Totsp)[0]\n",
    "        if not isfloat(Totsp):\n",
    "            Totsp='NaN'\n",
    "        else:\n",
    "            Totsp=int(Totsp)\n",
    "    except IndexError:\n",
    "        Totsp='NaN'\n",
    "    \n",
    "    try:\n",
    "        Livesp=re.split('Жилая площадь:|Площадь кухни', table)[1]   #Livesp\n",
    "        Livesp=Numbers(Livesp)[0]\n",
    "        if not isfloat(Livesp):\n",
    "            Livesp='NaN'\n",
    "        else:\n",
    "            Livesp=int(Livesp)\n",
    "    except IndexError:\n",
    "        Livesp='NaN'\n",
    "    \n",
    "    try:\n",
    "        Kitsp=re.split('Площадь кухни:|Санузел', table)[1]\n",
    "        Kitsp=Numbers(Kitsp)[0]\n",
    "        if not isfloat(Kitsp):\n",
    "            Kitsp='NaN'\n",
    "        else:\n",
    "            Kitsp=int(Kitsp)\n",
    "    except IndexError:\n",
    "        Kitsp='NaN'\n",
    "    \n",
    "    try:\n",
    "        t=re.split('Балкон:|Лифт', table)[1]            #Bal\n",
    "        r=re.compile('да|\\d')\n",
    "        if r1.search(t)==None:\n",
    "            Bal=0\n",
    "        else:\n",
    "            Bal=1\n",
    "    except IndexError:\n",
    "        Bal='NaN'\n",
    "    \n",
    "    try:\n",
    "        t=re.split('Телефон:|Вид из окна', table)[1]    #Tel\n",
    "        r=re.compile('да')\n",
    "        if r1.search(t)==None:\n",
    "            Tel=0\n",
    "        else:\n",
    "            Tel=1\n",
    "    except IndexError:\n",
    "        Tel='NaN'\n",
    "    \n",
    "    try:\n",
    "        Metrdist=flat_page.find('span', attrs={'class':'object_item_metro_comment'})\n",
    "        Metrdist=re.split('>|мин', str(Metrdist))\n",
    "        Walk=Metrdist[2].strip()\n",
    "        Metrdist=Metrdist[1].strip()\n",
    "        r=re.compile('пешком')\n",
    "        if r.search(Walk)==None:\n",
    "            Walk=0\n",
    "        else:\n",
    "            Walk=1\n",
    "    except IndexError:\n",
    "        Metrdist='NaN'\n",
    "        Walk='NaN'\n",
    "    Metrdist=int(Metrdist) if isfloat(Metrdist) else 'NaN'\n",
    "\n",
    "\n",
    "    lat,lon=getCoords(flat_page)\n",
    "    Dist=((lat-55.7535936)**2+(lon-37.6226007)**2)**(0.5)\n",
    "    \n",
    "    N=int(page) if isfloat(page) else 'NaN'\n",
    "    return [N,Rooms,Price,Totsp,Livesp,Kitsp,Dist,Metrdist,Walk,Brick,Tel,Bal,Floor,Nfloors,New]"
   ]
  },
  {
   "cell_type": "markdown",
   "metadata": {},
   "source": [
    "Проведем небольшой тест, чтобы удосовериться, что все работает"
   ]
  },
  {
   "cell_type": "code",
   "execution_count": 127,
   "metadata": {
    "collapsed": false
   },
   "outputs": [
    {
     "name": "stdout",
     "output_type": "stream",
     "text": [
      "[151131549, 5, 182606760, 278, 155, 20, 0.025325485781127872, 7, 1, 1, 0, 0, 3, 8, 0]\n",
      "[41938284, 1, 90935932, 105, 105, 1, 0.05860145671610735, 7, 1, 0, 0, 0, 8, 12, 1]\n",
      "[150649541, 3, 49000000, 70, 40, 10, 0.014947420347669277, 7, 1, 1, 0, 0, 8, 9, 0]\n",
      "[149031259, 1, 4585315, 17, 17, 1, 0.05408519371925884, 6, 1, 0, 0, 0, 2, 'NaN', 1]\n",
      "[151004941, 1, 4814581, 17, 10, 1, 0.05408519371925884, 6, 1, 1, 0, 0, 2, 5, 1]\n",
      "[150346368, 1, 4814581, 17, 17, 1, 0.054513573919251664, 5, 1, 1, 0, 0, 2, 6, 0]\n",
      "[149031296, 1, 5225953, 18, 18, 1, 0.05408519371925884, 6, 1, 0, 0, 0, 4, 'NaN', 1]\n",
      "[150640194, 1, 5300000, 32, 20, 7, 0.055799716770342185, 4, 1, 0, 0, 0, 1, 9, 0]\n",
      "[151004981, 1, 5377566, 18, 10, 1, 0.05408519371925884, 6, 1, 1, 0, 0, 5, 5, 1]\n",
      "[148794719, 1, 5496232, 23, 23, 1, 0.054513573919251664, 5, 1, 1, 0, 0, 2, 6, 0]\n"
     ]
    }
   ],
   "source": [
    "for link in links[:10]:\n",
    "    print Download(link)"
   ]
  },
  {
   "cell_type": "code",
   "execution_count": 9,
   "metadata": {
    "collapsed": true
   },
   "outputs": [],
   "source": [
    "def getCoords(flat_page):\n",
    "    coords = flat_page.find('div', attrs={'class':'map_info_button_extend'}).contents[1]\n",
    "    coords = re.split('&amp|center=|%2C', str(coords))\n",
    "    coords_list = []\n",
    "    for item in coords:\n",
    "        if item[0].isdigit():\n",
    "            coords_list.append(item)\n",
    "    lat = float(coords_list[0])\n",
    "    lon = float(coords_list[1])\n",
    "    return lat, lon"
   ]
  },
  {
   "cell_type": "code",
   "execution_count": 137,
   "metadata": {
    "collapsed": false
   },
   "outputs": [
    {
     "name": "stdout",
     "output_type": "stream",
     "text": [
      "0.0\n",
      "0.0499557913351\n",
      "0.0999115826702\n",
      "0.149867374005\n",
      "0.19982316534\n",
      "0.249778956676\n",
      "0.299734748011\n",
      "0.349690539346\n",
      "0.399646330681\n",
      "0.449602122016\n",
      "0.499557913351\n",
      "0.549513704686\n",
      "0.599469496021\n",
      "0.649425287356\n",
      "0.699381078691\n",
      "0.749336870027\n",
      "0.799292661362\n",
      "0.849248452697\n",
      "0.899204244032\n",
      "0.949160035367\n",
      "0.999115826702\n"
     ]
    }
   ],
   "source": [
    "import csv\n",
    "L=len(links)\n",
    "with open('C:\\\\Users\\\\USER\\\\Desktop\\\\CIAN.csv', 'wb') as f:\n",
    "    writer = csv.writer(f)\n",
    "    writer.writerow([' ','N','Rooms','Price','Totsp','Livesp','Kitsp','Dist','Metrdist','Walk','Brick','Tel','Bal','Floor','Nfloors','New'])\n",
    "    for i, link in enumerate(links):\n",
    "        writer.writerow([i]+Download(link))\n",
    "        if i%(L/20)==0:\n",
    "            print float(i)/L"
   ]
  },
  {
   "cell_type": "code",
   "execution_count": null,
   "metadata": {
    "collapsed": true
   },
   "outputs": [],
   "source": []
  }
 ],
 "metadata": {
  "kernelspec": {
   "display_name": "Python 2",
   "language": "python",
   "name": "python2"
  },
  "language_info": {
   "codemirror_mode": {
    "name": "ipython",
    "version": 2
   },
   "file_extension": ".py",
   "mimetype": "text/x-python",
   "name": "python",
   "nbconvert_exporter": "python",
   "pygments_lexer": "ipython2",
   "version": "2.7.12"
  }
 },
 "nbformat": 4,
 "nbformat_minor": 0
}
